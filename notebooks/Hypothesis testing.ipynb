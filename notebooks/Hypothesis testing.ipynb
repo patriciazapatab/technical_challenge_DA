{
 "cells": [
  {
   "cell_type": "code",
   "execution_count": 11,
   "id": "55a556cd",
   "metadata": {},
   "outputs": [],
   "source": [
    "import pandas as pd\n",
    "from scipy import stats\n",
    "from scipy.stats import ttest_ind #Checking if means of fuel_per_hour are equal"
   ]
  },
  {
   "cell_type": "code",
   "execution_count": 12,
   "id": "c8279c21",
   "metadata": {},
   "outputs": [],
   "source": [
    "df = pd.read_csv('../data/cleaned_data.csv')"
   ]
  },
  {
   "cell_type": "code",
   "execution_count": 13,
   "id": "a559db5d",
   "metadata": {
    "scrolled": true
   },
   "outputs": [
    {
     "data": {
      "text/html": [
       "<div>\n",
       "<style scoped>\n",
       "    .dataframe tbody tr th:only-of-type {\n",
       "        vertical-align: middle;\n",
       "    }\n",
       "\n",
       "    .dataframe tbody tr th {\n",
       "        vertical-align: top;\n",
       "    }\n",
       "\n",
       "    .dataframe thead th {\n",
       "        text-align: right;\n",
       "    }\n",
       "</style>\n",
       "<table border=\"1\" class=\"dataframe\">\n",
       "  <thead>\n",
       "    <tr style=\"text-align: right;\">\n",
       "      <th></th>\n",
       "      <th>Unnamed: 0</th>\n",
       "      <th>distance</th>\n",
       "      <th>consume</th>\n",
       "      <th>speed</th>\n",
       "      <th>temp_inside</th>\n",
       "      <th>temp_outside</th>\n",
       "      <th>gas_type</th>\n",
       "      <th>ac</th>\n",
       "      <th>rain</th>\n",
       "      <th>sun</th>\n",
       "      <th>fuel_per_trip</th>\n",
       "      <th>fuel_per_hour</th>\n",
       "      <th>cost_trip</th>\n",
       "    </tr>\n",
       "  </thead>\n",
       "  <tbody>\n",
       "    <tr>\n",
       "      <th>0</th>\n",
       "      <td>0</td>\n",
       "      <td>28.0</td>\n",
       "      <td>5.0</td>\n",
       "      <td>26</td>\n",
       "      <td>21.5</td>\n",
       "      <td>12</td>\n",
       "      <td>E10</td>\n",
       "      <td>0</td>\n",
       "      <td>0</td>\n",
       "      <td>0</td>\n",
       "      <td>1.400</td>\n",
       "      <td>0.0538</td>\n",
       "      <td>1.932000</td>\n",
       "    </tr>\n",
       "    <tr>\n",
       "      <th>1</th>\n",
       "      <td>1</td>\n",
       "      <td>12.0</td>\n",
       "      <td>4.2</td>\n",
       "      <td>30</td>\n",
       "      <td>21.5</td>\n",
       "      <td>13</td>\n",
       "      <td>E10</td>\n",
       "      <td>0</td>\n",
       "      <td>0</td>\n",
       "      <td>0</td>\n",
       "      <td>0.504</td>\n",
       "      <td>0.0168</td>\n",
       "      <td>0.695520</td>\n",
       "    </tr>\n",
       "    <tr>\n",
       "      <th>2</th>\n",
       "      <td>2</td>\n",
       "      <td>11.2</td>\n",
       "      <td>5.5</td>\n",
       "      <td>38</td>\n",
       "      <td>21.5</td>\n",
       "      <td>15</td>\n",
       "      <td>E10</td>\n",
       "      <td>0</td>\n",
       "      <td>0</td>\n",
       "      <td>0</td>\n",
       "      <td>0.616</td>\n",
       "      <td>0.0162</td>\n",
       "      <td>0.850080</td>\n",
       "    </tr>\n",
       "    <tr>\n",
       "      <th>3</th>\n",
       "      <td>3</td>\n",
       "      <td>12.9</td>\n",
       "      <td>3.9</td>\n",
       "      <td>36</td>\n",
       "      <td>21.5</td>\n",
       "      <td>14</td>\n",
       "      <td>E10</td>\n",
       "      <td>0</td>\n",
       "      <td>0</td>\n",
       "      <td>0</td>\n",
       "      <td>0.503</td>\n",
       "      <td>0.0140</td>\n",
       "      <td>0.694278</td>\n",
       "    </tr>\n",
       "    <tr>\n",
       "      <th>4</th>\n",
       "      <td>4</td>\n",
       "      <td>18.5</td>\n",
       "      <td>4.5</td>\n",
       "      <td>46</td>\n",
       "      <td>21.5</td>\n",
       "      <td>15</td>\n",
       "      <td>E10</td>\n",
       "      <td>0</td>\n",
       "      <td>0</td>\n",
       "      <td>0</td>\n",
       "      <td>0.832</td>\n",
       "      <td>0.0181</td>\n",
       "      <td>1.148850</td>\n",
       "    </tr>\n",
       "  </tbody>\n",
       "</table>\n",
       "</div>"
      ],
      "text/plain": [
       "   Unnamed: 0  distance  consume  speed  temp_inside  temp_outside gas_type  \\\n",
       "0           0      28.0      5.0     26         21.5            12      E10   \n",
       "1           1      12.0      4.2     30         21.5            13      E10   \n",
       "2           2      11.2      5.5     38         21.5            15      E10   \n",
       "3           3      12.9      3.9     36         21.5            14      E10   \n",
       "4           4      18.5      4.5     46         21.5            15      E10   \n",
       "\n",
       "   ac  rain  sun  fuel_per_trip  fuel_per_hour  cost_trip  \n",
       "0   0     0    0          1.400         0.0538   1.932000  \n",
       "1   0     0    0          0.504         0.0168   0.695520  \n",
       "2   0     0    0          0.616         0.0162   0.850080  \n",
       "3   0     0    0          0.503         0.0140   0.694278  \n",
       "4   0     0    0          0.832         0.0181   1.148850  "
      ]
     },
     "execution_count": 13,
     "metadata": {},
     "output_type": "execute_result"
    }
   ],
   "source": [
    "df.head()"
   ]
  },
  {
   "cell_type": "markdown",
   "id": "458e95e1",
   "metadata": {},
   "source": [
    "### H0 : Fuel per hour consumed with E10 and SP98 is equal"
   ]
  },
  {
   "cell_type": "code",
   "execution_count": 14,
   "id": "b54e8fff",
   "metadata": {},
   "outputs": [],
   "source": [
    "E10 = df[df['gas_type']=='E10']\n",
    "SP98 = df[df['gas_type']=='SP98']"
   ]
  },
  {
   "cell_type": "code",
   "execution_count": 16,
   "id": "d4dc9cc3",
   "metadata": {},
   "outputs": [
    {
     "name": "stdout",
     "output_type": "stream",
     "text": [
      "T-statistic: 0.9983229014048229\n",
      "P-value: 0.31874821589021046\n"
     ]
    }
   ],
   "source": [
    "# Perform t-test\n",
    "t_statistic, p_value = stats.ttest_ind(E10['fuel_per_hour'], SP98['fuel_per_hour'])\n",
    "\n",
    "# Print results\n",
    "print(f\"T-statistic: {t_statistic}\")\n",
    "print(f\"P-value: {p_value}\")"
   ]
  },
  {
   "cell_type": "code",
   "execution_count": 17,
   "id": "f7a6e7d1",
   "metadata": {},
   "outputs": [
    {
     "name": "stdout",
     "output_type": "stream",
     "text": [
      "Fail to reject the null hypothesis. There is no significant difference between the groups.\n"
     ]
    }
   ],
   "source": [
    "# Interpret the results\n",
    "alpha = 0.05\n",
    "if p_value < alpha:\n",
    "    print(\"Reject the null hypothesis. There is a significant difference between the groups.\")\n",
    "else:\n",
    "    print(\"Fail to reject the null hypothesis. There is no significant difference between the groups.\")"
   ]
  },
  {
   "cell_type": "markdown",
   "id": "e4d6e1dd",
   "metadata": {},
   "source": [
    "The observed difference in the 'fuel per hour' consumed between the two fuels (E10 and SP98) is not statistically significant."
   ]
  },
  {
   "cell_type": "markdown",
   "id": "2d809168",
   "metadata": {},
   "source": [
    "### H0 : Cost of trip between E10 vs SP98 is equal"
   ]
  },
  {
   "cell_type": "code",
   "execution_count": 18,
   "id": "7c95ce05",
   "metadata": {},
   "outputs": [
    {
     "name": "stdout",
     "output_type": "stream",
     "text": [
      "T-statistic: 0.6186964484920059\n",
      "P-value: 0.536481279060945\n"
     ]
    }
   ],
   "source": [
    "# Perform t-test\n",
    "t_statistic, p_value = stats.ttest_ind(E10['cost_trip'], SP98['cost_trip'])\n",
    "\n",
    "# Print results\n",
    "print(f\"T-statistic: {t_statistic}\")\n",
    "print(f\"P-value: {p_value}\")"
   ]
  },
  {
   "cell_type": "code",
   "execution_count": 19,
   "id": "121b0e25",
   "metadata": {},
   "outputs": [
    {
     "name": "stdout",
     "output_type": "stream",
     "text": [
      "Fail to reject the null hypothesis. There is no significant difference between the groups.\n"
     ]
    }
   ],
   "source": [
    "# Interpret the results\n",
    "alpha = 0.05\n",
    "if p_value < alpha:\n",
    "    print(\"Reject the null hypothesis. There is a significant difference between the groups.\")\n",
    "else:\n",
    "    print(\"Fail to reject the null hypothesis. There is no significant difference between the groups.\")"
   ]
  },
  {
   "cell_type": "markdown",
   "id": "baef1e38",
   "metadata": {},
   "source": [
    "The difference in the cost per trip between the two fuels (E10 and SP98) is not statistically significant."
   ]
  },
  {
   "cell_type": "markdown",
   "id": "593023a4",
   "metadata": {},
   "source": [
    "However, fuel prices are subject to frequent fluctuations influenced by various factors. To address this variability, it would be beneficial to integrate data from an API, enabling access to near real-time fuel prices. This would empower informed decision-making based on the latest market conditions."
   ]
  }
 ],
 "metadata": {
  "kernelspec": {
   "display_name": "ironhack",
   "language": "python",
   "name": "ironhack"
  },
  "language_info": {
   "codemirror_mode": {
    "name": "ipython",
    "version": 3
   },
   "file_extension": ".py",
   "mimetype": "text/x-python",
   "name": "python",
   "nbconvert_exporter": "python",
   "pygments_lexer": "ipython3",
   "version": "3.11.5"
  }
 },
 "nbformat": 4,
 "nbformat_minor": 5
}
